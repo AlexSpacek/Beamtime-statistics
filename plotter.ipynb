{
 "cells": [
  {
   "cell_type": "code",
   "execution_count": 1,
   "metadata": {},
   "outputs": [],
   "source": [
    "# Import modules\n",
    "import numpy as np\n",
    "import pandas as pd\n",
    "from IPython.display import display\n",
    "from cleaner import yearly_sheet"
   ]
  },
  {
   "cell_type": "code",
   "execution_count": 2,
   "metadata": {},
   "outputs": [],
   "source": [
    "#load data from excel: all sheets into df1 dictionary whose keys are sheet names\n",
    "xlsx = pd.ExcelFile('L1_hour_count.xlsx')\n",
    "dict1 = pd.read_excel(xlsx, None)"
   ]
  },
  {
   "cell_type": "code",
   "execution_count": 3,
   "metadata": {},
   "outputs": [
    {
     "ename": "AttributeError",
     "evalue": "'int' object has no attribute 'iloc'",
     "output_type": "error",
     "traceback": [
      "\u001b[1;31m---------------------------------------------------------------------------\u001b[0m",
      "\u001b[1;31mAttributeError\u001b[0m                            Traceback (most recent call last)",
      "\u001b[1;32mc:\\Users\\RippS\\Documents\\GitHub\\Beamtime-statistics\\plotter.ipynb Cell 3'\u001b[0m in \u001b[0;36m<cell line: 1>\u001b[1;34m()\u001b[0m\n\u001b[1;32m----> <a href='vscode-notebook-cell:/c%3A/Users/RippS/Documents/GitHub/Beamtime-statistics/plotter.ipynb#ch0000002?line=0'>1</a>\u001b[0m year2021\u001b[39m=\u001b[39myearly_sheet(\u001b[39m2021\u001b[39;49m,dict1[\u001b[39m\"\u001b[39;49m\u001b[39m2021\u001b[39;49m\u001b[39m\"\u001b[39;49m])\n\u001b[0;32m      <a href='vscode-notebook-cell:/c%3A/Users/RippS/Documents/GitHub/Beamtime-statistics/plotter.ipynb#ch0000002?line=1'>2</a>\u001b[0m \u001b[39m# dictSorted = dict1[\"2021\"][dict1[\"2021\"].notna()]\u001b[39;00m\n\u001b[0;32m      <a href='vscode-notebook-cell:/c%3A/Users/RippS/Documents/GitHub/Beamtime-statistics/plotter.ipynb#ch0000002?line=2'>3</a>\u001b[0m display(year2021)\n",
      "File \u001b[1;32mc:\\Users\\RippS\\Documents\\GitHub\\Beamtime-statistics\\cleaner.py:9\u001b[0m, in \u001b[0;36myearly_sheet.__init__\u001b[1;34m(self, sheet, year)\u001b[0m\n\u001b[0;32m      6\u001b[0m \u001b[39mdef\u001b[39;00m \u001b[39m__init__\u001b[39m(\u001b[39mself\u001b[39m, sheet, year):\n\u001b[0;32m      7\u001b[0m     \u001b[39m# save the name of the sheet ...represently the year of operation\u001b[39;00m\n\u001b[0;32m      8\u001b[0m     \u001b[39mself\u001b[39m\u001b[39m.\u001b[39myear \u001b[39m=\u001b[39m year\n\u001b[1;32m----> 9\u001b[0m     \u001b[39mself\u001b[39m\u001b[39m.\u001b[39msheet \u001b[39m=\u001b[39m \u001b[39mself\u001b[39;49m\u001b[39m.\u001b[39;49mcleaner(sheet)\n\u001b[0;32m     10\u001b[0m     \u001b[39mreturn\u001b[39;00m\n",
      "File \u001b[1;32mc:\\Users\\RippS\\Documents\\GitHub\\Beamtime-statistics\\cleaner.py:15\u001b[0m, in \u001b[0;36myearly_sheet.cleaner\u001b[1;34m(self, sheet)\u001b[0m\n\u001b[0;32m     13\u001b[0m \u001b[39mdef\u001b[39;00m \u001b[39mcleaner\u001b[39m(\u001b[39mself\u001b[39m,sheet):\n\u001b[0;32m     14\u001b[0m     \u001b[39m#select days of user runs based on the date column\u001b[39;00m\n\u001b[1;32m---> 15\u001b[0m     cleanedSheet\u001b[39m=\u001b[39m\u001b[39mself\u001b[39;49m\u001b[39m.\u001b[39;49mselectUserRuns(sheet)\n\u001b[0;32m     16\u001b[0m     \u001b[39mreturn\u001b[39;00m cleanedSheet\n",
      "File \u001b[1;32mc:\\Users\\RippS\\Documents\\GitHub\\Beamtime-statistics\\cleaner.py:19\u001b[0m, in \u001b[0;36myearly_sheet.selectUserRuns\u001b[1;34m(self, sheet)\u001b[0m\n\u001b[0;32m     17\u001b[0m \u001b[39mdef\u001b[39;00m \u001b[39mselectUserRuns\u001b[39m(\u001b[39mself\u001b[39m,sheet):\n\u001b[0;32m     18\u001b[0m     \u001b[39m#select days of user runs based on the date column\u001b[39;00m\n\u001b[1;32m---> 19\u001b[0m     userRuns \u001b[39m=\u001b[39m sheet[sheet\u001b[39m.\u001b[39;49miloc[:,\u001b[39m1\u001b[39m]\u001b[39m.\u001b[39mnotna()]\n\u001b[0;32m     20\u001b[0m     \u001b[39mreturn\u001b[39;00m userRuns\n",
      "\u001b[1;31mAttributeError\u001b[0m: 'int' object has no attribute 'iloc'"
     ]
    }
   ],
   "source": [
    "year2021=yearly_sheet(2021,dict1[\"2021\"])\n",
    "# dictSorted = dict1[\"2021\"][dict1[\"2021\"].notna()]\n",
    "display(year2021)\n",
    "#df1=pd.DataFrame.from_dict(dict1)\n",
    "\n",
    "#display(dict1[\"2022\"])\n",
    "#display(df1.icol(2))"
   ]
  }
 ],
 "metadata": {
  "kernelspec": {
   "display_name": "Python 3.9.12 ('Beamtime')",
   "language": "python",
   "name": "python3"
  },
  "language_info": {
   "codemirror_mode": {
    "name": "ipython",
    "version": 3
   },
   "file_extension": ".py",
   "mimetype": "text/x-python",
   "name": "python",
   "nbconvert_exporter": "python",
   "pygments_lexer": "ipython3",
   "version": "3.9.12"
  },
  "orig_nbformat": 4,
  "vscode": {
   "interpreter": {
    "hash": "4af48f81870d9f98cf3e7bbaef5c8d0f372568dea426673516836732f7e893b8"
   }
  }
 },
 "nbformat": 4,
 "nbformat_minor": 2
}
