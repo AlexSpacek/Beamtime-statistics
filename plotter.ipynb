{
 "cells": [
  {
   "cell_type": "code",
   "execution_count": 1,
   "metadata": {},
   "outputs": [],
   "source": [
    "# Import modules\n",
    "import numpy as np\n",
    "import pandas as pd\n",
    "from IPython.display import display\n",
    "from cleaner import yearly_sheet"
   ]
  },
  {
   "cell_type": "code",
   "execution_count": 2,
   "metadata": {},
   "outputs": [],
   "source": [
    "#load data from excel: all sheets into df1 dictionary whose keys are sheet names\n",
    "xlsx = pd.ExcelFile('L1_hour_count.xlsx')\n",
    "dict1 = pd.read_excel(xlsx, None)"
   ]
  },
  {
   "cell_type": "code",
   "execution_count": null,
   "metadata": {},
   "outputs": [],
   "source": [
    "year2021=yearly_sheet(2021,dict1[\"2021\"])\n",
    "display(year2021.sheet)"
   ]
  }
 ],
 "metadata": {
  "kernelspec": {
   "display_name": "Python 3.9.12 ('Beamtime')",
   "language": "python",
   "name": "python3"
  },
  "language_info": {
   "codemirror_mode": {
    "name": "ipython",
    "version": 3
   },
   "file_extension": ".py",
   "mimetype": "text/x-python",
   "name": "python",
   "nbconvert_exporter": "python",
   "pygments_lexer": "ipython3",
   "version": "3.9.12"
  },
  "orig_nbformat": 4,
  "vscode": {
   "interpreter": {
    "hash": "4af48f81870d9f98cf3e7bbaef5c8d0f372568dea426673516836732f7e893b8"
   }
  }
 },
 "nbformat": 4,
 "nbformat_minor": 2
}
